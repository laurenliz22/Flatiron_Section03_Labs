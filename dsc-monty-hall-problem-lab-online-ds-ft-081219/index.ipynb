{
 "cells": [
  {
   "cell_type": "markdown",
   "metadata": {},
   "source": [
    "# The Monty Hall Problem\n",
    "\n",
    "## Introduction\n",
    "\n",
    "The Monty Hall problem is a famous little puzzle from a game show. It goes like this: you are presented with 3 doors. Behind two are goats and behind the third is a car. You are asked to select a door; if you select the door with the car, you win! After selecting, the host then opens one of the remaining two doors, revealing a goat. The host then asks if you would like to switch doors or stick with your original choice. What would you do? Does it matter?\n",
    "\n",
    "<img src=\"images/Image_58_MontyHall.png\">\n",
    "\n",
    "## Objectives\n",
    "\n",
    "You will be able to:\n",
    "* Solve the monty hall problem using simulations"
   ]
  },
  {
   "cell_type": "markdown",
   "metadata": {},
   "source": [
    "## Run a Simulation\n",
    "\n",
    "This is not a traditional application of Bayes' Theorem, so trying to formulate the problem as such is tricky at best. That said, the scenario does capture the motivating conception behind Bayesian statistics: updating our beliefs in the face of additional evidence. With this, you'll employ another frequently used tool of Bayesian's&mdash;running a simulation. To do this, generate a random integer between one and three to represent the door hiding the car. Then, generate a second integer between one and three representing the player's selection. Then, of those the contestant did not choose, select a door concealing a goat to reveal. Record the results of the simulated game if they changed versus if they did not. Repeat this process a thousand (or more) times. Finally, plot the results of your simulation as a line graph. The x-axis should be the number of simulations, and the y-axis should be the probability of winning. (There should be two lines on the graph, one for switching doors, and the other for keeping the original selection.)"
   ]
  },
  {
   "cell_type": "code",
   "execution_count": 1,
   "metadata": {},
   "outputs": [],
   "source": [
    "#Your code here\n",
    "import numpy as np\n",
    "stay = []\n",
    "switch = []\n",
    "for n in range(1000):\n",
    "    car = np.random.randint(1, 4)\n",
    "    player_selection = np.random.randint(1, 4)\n",
    "    goats_remaining = [door for door in [1,2,3] if door!=car and door!=player_selection]\n",
    "    door_revealed = np.random.choice(goats_remaining)\n",
    "    if_switch = [door for door in [1,2,3] if door != player_selection and door != door_revealed][0]\n",
    "    if if_switch == car:\n",
    "        switch.append(1)\n",
    "    else:\n",
    "        switch.append(0)\n",
    "    if player_selection == car:\n",
    "        stay.append(1)\n",
    "    else:\n",
    "        stay.append(0)"
   ]
  },
  {
   "cell_type": "code",
   "execution_count": 2,
   "metadata": {},
   "outputs": [
    {
     "name": "stdout",
     "output_type": "stream",
     "text": [
      "Simulated Probabilities:\n",
      "Chance of Winning Keeping Selected Door:  0.348\n",
      "Chance of Winning Switching Selected Door:  0.652\n"
     ]
    },
    {
     "data": {
      "image/png": "[encoded data removed]",
      "text/plain": [
       "<Figure size 432x288 with 1 Axes>"
      ]
     },
     "metadata": {
      "needs_background": "light"
     },
     "output_type": "display_data"
    }
   ],
   "source": [
    "#Plot the results\n",
    "import matplotlib.pyplot as plt\n",
    "%matplotlib inline\n",
    "plt.plot(range(1,10001), [np.mean(stay[:i]) for i in range(1,10001)], label='Keep Selected Door')\n",
    "plt.plot(range(1,10001), [np.mean(switch[:i]) for i in range(1,10001)], label='Switch Selected Door')\n",
    "plt.ylabel('Probability of Winning')\n",
    "plt.xlabel('Number of Simulations')\n",
    "plt.title('Simulated Probability of Winning the Monty Hall Game')\n",
    "plt.legend()\n",
    "print('Simulated Probabilities:')\n",
    "print('Chance of Winning Keeping Selected Door: ', np.mean(stay))\n",
    "print('Chance of Winning Switching Selected Door: ', np.mean(switch))"
   ]
  },
  {
   "cell_type": "markdown",
   "metadata": {},
   "source": [
    "## Summary\n",
    "\n",
    "In this lab, you further investigated the idea of Bayes' Theorem and Bayesian statistics in general through the Monty Hall problem. Hopefully, this was an entertaining little experience! "
   ]
  }
 ],
 "metadata": {
  "kernelspec": {
   "display_name": "Python 3",
   "language": "python",
   "name": "python3"
  },
  "language_info": {
   "codemirror_mode": {
    "name": "ipython",
    "version": 3
   },
   "file_extension": ".py",
   "mimetype": "text/x-python",
   "name": "python",
   "nbconvert_exporter": "python",
   "pygments_lexer": "ipython3",
   "version": "3.6.6"
  }
 },
 "nbformat": 4,
 "nbformat_minor": 2
}
